{
  "cells": [
    {
      "cell_type": "code",
      "execution_count": 1,
      "metadata": {
        "colab": {
          "base_uri": "https://localhost:8080/"
        },
        "id": "-8eFW_wl1n39",
        "outputId": "ec75d923-5969-4946-963a-c94d63ee2922"
      },
      "outputs": [
        {
          "name": "stdout",
          "output_type": "stream",
          "text": [
            "Get:1 https://cloud.r-project.org/bin/linux/ubuntu bionic-cran40/ InRelease [3,626 B]\n",
            "Hit:2 http://archive.ubuntu.com/ubuntu bionic InRelease\n",
            "Ign:3 https://developer.download.nvidia.com/compute/machine-learning/repos/ubuntu1804/x86_64  InRelease\n",
            "Hit:4 https://developer.download.nvidia.com/compute/cuda/repos/ubuntu1804/x86_64  InRelease\n",
            "Hit:5 https://developer.download.nvidia.com/compute/machine-learning/repos/ubuntu1804/x86_64  Release\n",
            "Get:6 http://security.ubuntu.com/ubuntu bionic-security InRelease [88.7 kB]\n",
            "Get:7 http://archive.ubuntu.com/ubuntu bionic-updates InRelease [88.7 kB]\n",
            "Get:8 http://ppa.launchpad.net/c2d4u.team/c2d4u4.0+/ubuntu bionic InRelease [15.9 kB]\n",
            "Get:10 http://archive.ubuntu.com/ubuntu bionic-backports InRelease [83.3 kB]\n",
            "Hit:11 http://ppa.launchpad.net/cran/libgit2/ubuntu bionic InRelease\n",
            "Hit:12 http://ppa.launchpad.net/deadsnakes/ppa/ubuntu bionic InRelease\n",
            "Hit:13 http://ppa.launchpad.net/graphics-drivers/ppa/ubuntu bionic InRelease\n",
            "Get:14 http://ppa.launchpad.net/c2d4u.team/c2d4u4.0+/ubuntu bionic/main Sources [2,235 kB]\n",
            "Get:15 http://ppa.launchpad.net/c2d4u.team/c2d4u4.0+/ubuntu bionic/main amd64 Packages [1,143 kB]\n",
            "Fetched 3,659 kB in 6s (596 kB/s)\n",
            "Reading package lists... Done\n"
          ]
        }
      ],
      "source": [
        "# Activate Spark in our Colab notebook.\n",
        "import os\n",
        "# Find the latest version of spark 3.2  from http://www.apache.org/dist/spark/ and enter as the spark version\n",
        "# For example:\n",
        "# spark_version = 'spark-3.2.2'\n",
        "spark_version = 'spark-3.2.3'\n",
        "os.environ['SPARK_VERSION']=spark_version\n",
        "\n",
        "# Install Spark and Java\n",
        "!apt-get update\n",
        "!apt-get install openjdk-11-jdk-headless -qq > /dev/null\n",
        "!wget -q http://www.apache.org/dist/spark/$SPARK_VERSION/$SPARK_VERSION-bin-hadoop2.7.tgz\n",
        "!tar xf $SPARK_VERSION-bin-hadoop2.7.tgz\n",
        "!pip install -q findspark\n",
        "\n",
        "# Set Environment Variables\n",
        "import os\n",
        "os.environ[\"JAVA_HOME\"] = \"/usr/lib/jvm/java-11-openjdk-amd64\"\n",
        "os.environ[\"SPARK_HOME\"] = f\"/content/{spark_version}-bin-hadoop2.7\"\n",
        "\n",
        "# Start a SparkSession\n",
        "import findspark\n",
        "findspark.init()"
      ]
    },
    {
      "cell_type": "code",
      "execution_count": 2,
      "metadata": {
        "colab": {
          "base_uri": "https://localhost:8080/"
        },
        "id": "BzCrgs0Z1rnw",
        "outputId": "70103c26-702f-46c5-aa26-8b39e843232f"
      },
      "outputs": [
        {
          "name": "stdout",
          "output_type": "stream",
          "text": [
            "--2022-12-30 02:43:15--  https://jdbc.postgresql.org/download/postgresql-42.2.9.jar\n",
            "Resolving jdbc.postgresql.org (jdbc.postgresql.org)... 72.32.157.228, 2001:4800:3e1:1::228\n",
            "Connecting to jdbc.postgresql.org (jdbc.postgresql.org)|72.32.157.228|:443... connected.\n",
            "HTTP request sent, awaiting response... 200 OK\n",
            "Length: 914037 (893K) [application/java-archive]\n",
            "Saving to: ‘postgresql-42.2.9.jar’\n",
            "\n",
            "postgresql-42.2.9.j 100%[===================>] 892.61K  1.26MB/s    in 0.7s    \n",
            "\n",
            "2022-12-30 02:43:16 (1.26 MB/s) - ‘postgresql-42.2.9.jar’ saved [914037/914037]\n",
            "\n"
          ]
        }
      ],
      "source": [
        "# Get postgresql package\n",
        "!wget https://jdbc.postgresql.org/download/postgresql-42.2.9.jar"
      ]
    },
    {
      "cell_type": "code",
      "execution_count": 3,
      "metadata": {
        "id": "0DuBth0V2PR8"
      },
      "outputs": [],
      "source": [
        "# Import Spark and create a SparkSession\n",
        "from pyspark.sql import SparkSession\n",
        "spark = SparkSession.builder.appName(\"BigData-HW-1\").config(\"spark.driver.extraClassPath\",\"/content/postgresql-42.2.9.jar\").getOrCreate()"
      ]
    },
    {
      "cell_type": "markdown",
      "metadata": {
        "id": "D3W2XJVi2CU-"
      },
      "source": [
        "# Extract the Amazon Data into Spark DataFrame"
      ]
    },
    {
      "cell_type": "code",
      "execution_count": 6,
      "metadata": {
        "colab": {
          "base_uri": "https://localhost:8080/"
        },
        "id": "Na_stw7b1wfU",
        "outputId": "1f306a97-2fb1-4d4f-f39b-b941345f948b"
      },
      "outputs": [
        {
          "name": "stdout",
          "output_type": "stream",
          "text": [
            "+-----------+-----------+--------------+----------+--------------+--------------------+--------------------+-----------+-------------+-----------+----+-----------------+--------------------+--------------------+-----------+\n",
            "|marketplace|customer_id|     review_id|product_id|product_parent|       product_title|    product_category|star_rating|helpful_votes|total_votes|vine|verified_purchase|     review_headline|         review_body|review_date|\n",
            "+-----------+-----------+--------------+----------+--------------+--------------------+--------------------+-----------+-------------+-----------+----+-----------------+--------------------+--------------------+-----------+\n",
            "|         US|   33605939| RGYFDX8QXKEIR|B007KO2MLO|     328837464|           Big Maria|Digital_Ebook_Pur...|          4|            0|          0|   N|                N|              Quirky|Elmore Leonard me...| 2013-09-09|\n",
            "|         US|   34058393|R13CBGTMNV9R8Z|B005FLODDE|     764276359|The Woman Who Was...|Digital_Ebook_Pur...|          4|            1|          2|   N|                Y|The Woman Who Was...|This book was ver...| 2013-09-09|\n",
            "|         US|   39601147| R7DRFHC0F71O0|B00EA3L35O|     535606445|Mary had A Sleepy...|Digital_Ebook_Pur...|          5|            0|          0|   N|                N|This Sleepy Sheep...|I had the opportu...| 2013-09-09|\n",
            "|         US|   17351407|R27LUKEXU3KBXQ|B00BL3JV50|     240053004|          Starstruck|Digital_Ebook_Pur...|          5|            1|          1|   N|                Y|Steamy and suspen...|What a great read...| 2013-09-09|\n",
            "|         US|   10463387|R1VXTPUYMNU687|B00CXU7U80|     931529805|The Complete Cona...|Digital_Ebook_Pur...|          5|            1|          2|   N|                N|          Barbarians|Barbarians need l...| 2013-09-09|\n",
            "|         US|   50484904|R30DKW1GJWLPZC|B004EWGS5G|     442453110|The Middle Passag...|Digital_Ebook_Pur...|          3|            1|          2|   N|                Y|            Menu....|It was okay obvio...| 2013-09-09|\n",
            "|         US|    7145636|R18DPFG2FALJI9|B00BNRJAT6|     856774152|Hide in Plain Sig...|Digital_Ebook_Pur...|          5|            0|          0|   N|                Y|        Awesome book|Very interesting ...| 2013-09-09|\n",
            "|         US|    6285538|R24D677N5WBW5Q|B007FZOXJM|       5589837|Face of Betrayal ...|Digital_Ebook_Pur...|          5|            0|          0|   N|                Y|    Face of betrayal|Really enjoyed th...| 2013-09-09|\n",
            "|         US|   10278048|R2FCJ9BQLSIOR3|B00B6AK7LU|     362701357|Final Justice (A ...|Digital_Ebook_Pur...|          5|            0|          0|   N|                Y|           Very good|I really liked th...| 2013-09-09|\n",
            "|         US|   16568972|R1R6K4MAKDWTXI|B00EVMMLU0|     342745087|Falling For My Hu...|Digital_Ebook_Pur...|          4|            0|          0|   N|                Y|Ouch! My neck is ...|Reading Callum an...| 2013-09-09|\n",
            "|         US|   26001763|R3R5DILCWM8J7B|B00E4W4984|     186117550|  Forgetting Tabitha|Digital_Ebook_Pur...|          5|            0|          0|   N|                Y|It was a wonderfu...|I really enjoyed ...| 2013-09-09|\n",
            "|         US|   48203259| RR5K72IZOCOFE|B005A1JBB8|     947574172|The Blacksmith's ...|Digital_Ebook_Pur...|          4|            0|          0|   N|                N|       Worth reading|Although not comp...| 2013-09-09|\n",
            "|         US|   45028038|R3K9PJU5GLDY3O|B0044DELIQ|     427899617|Vampire Vacation:...|Digital_Ebook_Pur...|          5|            1|          2|   N|                Y|      Very Good Romp|Enjoyed the chara...| 2013-09-09|\n",
            "|         US|   42554355|R1KTZMCDOJXAEK|B00DJQYATE|     184945574|By the Tail (Coug...|Digital_Ebook_Pur...|          5|            0|          0|   N|                N|    Love this Series|I love the Cougar...| 2013-09-09|\n",
            "|         US|   11251156|R3SBEH4Y3W9W11|B004XFYNNS|     820449163|The Kingdom (A Fa...|Digital_Ebook_Pur...|          5|            0|          0|   N|                Y|    Love this author|I really enjoy Cl...| 2013-09-09|\n",
            "|         US|   44677006|R3GB8WOHSWW2EG|B00A27Z6GO|     969993834|6 Erotic Bedtime ...|Digital_Ebook_Pur...|          3|            0|          0|   N|                Y|    Didn't finish...|I have to admit I...| 2013-09-09|\n",
            "|         US|   34645512| RDM68WMOEDNRJ|B008EGV4BQ|      36906356|The Purpose Drive...|Digital_Ebook_Pur...|          5|            0|          0|   N|                Y|Can't unread it now!|Thanx paster Rick...| 2013-09-09|\n",
            "|         US|   16137650|R3TW70YF2WZK9O|B00655U3WE|     941986263|Insurgent (Diverg...|Digital_Ebook_Pur...|          5|            0|          0|   N|                Y|Great second inst...|As with divergent...| 2013-09-09|\n",
            "|         US|    4514126|R39ESX43X1SA5T|B006NG0GXQ|     402593554|Forever His: A Ti...|Digital_Ebook_Pur...|          1|           36|         47|   N|                Y|   Completely absurd|From the time tha...| 2013-09-09|\n",
            "|         US|   44803855|R3MCA5W3BZ65OU|B008J4RPWA|     804503161|Summerset Abbey: ...|Digital_Ebook_Pur...|          5|            0|          0|   N|                Y|#2, just as good ...|I love the intera...| 2013-09-09|\n",
            "+-----------+-----------+--------------+----------+--------------+--------------------+--------------------+-----------+-------------+-----------+----+-----------------+--------------------+--------------------+-----------+\n",
            "only showing top 20 rows\n",
            "\n"
          ]
        }
      ],
      "source": [
        "# Read in the data from an S3 Bucket\n",
        "from pyspark import SparkFiles\n",
        "url = \"https://s3.amazonaws.com/amazon-reviews-pds/tsv/amazon_reviews_us_Digital_Ebook_Purchase_v1_01.tsv.gz\"\n",
        "spark.sparkContext.addFile(url)\n",
        "user_data_df = spark.read.csv(SparkFiles.get(\"amazon_reviews_us_Digital_Ebook_Purchase_v1_01.tsv.gz\"), sep=\"\\t\", header=True, inferSchema=True)\n",
        "\n",
        "# Show DataFrame\n",
        "user_data_df.show()\n"
      ]
    },
    {
      "cell_type": "code",
      "execution_count": 7,
      "metadata": {
        "colab": {
          "base_uri": "https://localhost:8080/"
        },
        "id": "Cayz-3Q52IM3",
        "outputId": "55211385-ba77-41c9-b817-9518fd49c259"
      },
      "outputs": [
        {
          "data": {
            "text/plain": [
              "5101693"
            ]
          },
          "execution_count": 7,
          "metadata": {},
          "output_type": "execute_result"
        }
      ],
      "source": [
        "# Get the number of rows in the DataFrame.\n",
        "user_data_df.count()\n"
      ]
    },
    {
      "cell_type": "markdown",
      "metadata": {
        "id": "C9U0rkGZ2eu7"
      },
      "source": [
        "# Transform the Data"
      ]
    },
    {
      "cell_type": "markdown",
      "metadata": {
        "id": "dUoftWoKtM_c"
      },
      "source": [
        "## Create the \"review_id_table\"."
      ]
    },
    {
      "cell_type": "code",
      "execution_count": 8,
      "metadata": {
        "colab": {
          "base_uri": "https://localhost:8080/"
        },
        "id": "2tMYkSIk2d-m",
        "outputId": "51a59efe-2eca-4feb-88ee-82c5c0535189"
      },
      "outputs": [
        {
          "name": "stdout",
          "output_type": "stream",
          "text": [
            "+--------------+-----------+----------+--------------+-----------+\n",
            "|     review_id|customer_id|product_id|product_parent|review_date|\n",
            "+--------------+-----------+----------+--------------+-----------+\n",
            "| RGYFDX8QXKEIR|   33605939|B007KO2MLO|     328837464| 2013-09-09|\n",
            "|R13CBGTMNV9R8Z|   34058393|B005FLODDE|     764276359| 2013-09-09|\n",
            "| R7DRFHC0F71O0|   39601147|B00EA3L35O|     535606445| 2013-09-09|\n",
            "|R27LUKEXU3KBXQ|   17351407|B00BL3JV50|     240053004| 2013-09-09|\n",
            "|R1VXTPUYMNU687|   10463387|B00CXU7U80|     931529805| 2013-09-09|\n",
            "|R30DKW1GJWLPZC|   50484904|B004EWGS5G|     442453110| 2013-09-09|\n",
            "|R18DPFG2FALJI9|    7145636|B00BNRJAT6|     856774152| 2013-09-09|\n",
            "|R24D677N5WBW5Q|    6285538|B007FZOXJM|       5589837| 2013-09-09|\n",
            "|R2FCJ9BQLSIOR3|   10278048|B00B6AK7LU|     362701357| 2013-09-09|\n",
            "|R1R6K4MAKDWTXI|   16568972|B00EVMMLU0|     342745087| 2013-09-09|\n",
            "|R3R5DILCWM8J7B|   26001763|B00E4W4984|     186117550| 2013-09-09|\n",
            "| RR5K72IZOCOFE|   48203259|B005A1JBB8|     947574172| 2013-09-09|\n",
            "|R3K9PJU5GLDY3O|   45028038|B0044DELIQ|     427899617| 2013-09-09|\n",
            "|R1KTZMCDOJXAEK|   42554355|B00DJQYATE|     184945574| 2013-09-09|\n",
            "|R3SBEH4Y3W9W11|   11251156|B004XFYNNS|     820449163| 2013-09-09|\n",
            "|R3GB8WOHSWW2EG|   44677006|B00A27Z6GO|     969993834| 2013-09-09|\n",
            "| RDM68WMOEDNRJ|   34645512|B008EGV4BQ|      36906356| 2013-09-09|\n",
            "|R3TW70YF2WZK9O|   16137650|B00655U3WE|     941986263| 2013-09-09|\n",
            "|R39ESX43X1SA5T|    4514126|B006NG0GXQ|     402593554| 2013-09-09|\n",
            "|R3MCA5W3BZ65OU|   44803855|B008J4RPWA|     804503161| 2013-09-09|\n",
            "+--------------+-----------+----------+--------------+-----------+\n",
            "only showing top 20 rows\n",
            "\n"
          ]
        }
      ],
      "source": [
        "from pyspark.sql.functions import to_date\n",
        "# Create the \"review_id_df\" DataFrame with the appropriate columns and data types.\n",
        "review_id_df = user_data_df.select(['review_id', 'customer_id', 'product_id', 'product_parent', 'review_date'])\n",
        "review_id_df.show()\n",
        "\n"
      ]
    },
    {
      "cell_type": "markdown",
      "metadata": {
        "id": "aAVCFjXhtXO8"
      },
      "source": [
        "## Create the \"products\" Table"
      ]
    },
    {
      "cell_type": "code",
      "execution_count": 9,
      "metadata": {
        "colab": {
          "base_uri": "https://localhost:8080/"
        },
        "id": "g9gTNhT62je4",
        "outputId": "f7384873-3b47-4582-fb59-9ad8a070999d"
      },
      "outputs": [
        {
          "name": "stdout",
          "output_type": "stream",
          "text": [
            "+----------+--------------------+\n",
            "|product_id|       product_title|\n",
            "+----------+--------------------+\n",
            "|068986843X|The Stolen Relic ...|\n",
            "|B000EOTFRQ|  The Grand Alliance|\n",
            "|B000F83SV0| Lavender Excursions|\n",
            "|B000F83SWO| Season of the Witch|\n",
            "|B000F83T2S|   No Enemy But Time|\n",
            "|B000F83T3C|The Return of Tar...|\n",
            "|B000F83T82|              Terror|\n",
            "|B000F83TDW|    Unicorn Mountain|\n",
            "|B000F83TEQ|Gold Coffin Murde...|\n",
            "|B000FA5KFA|          The Prince|\n",
            "|B000FA5KKA|Interplanetary Hu...|\n",
            "|B000FA5KSC|Winning the Loser...|\n",
            "|B000FA5KTQ|Buying Travel Ser...|\n",
            "|B000FA5KX2|    The McKinsey Way|\n",
            "|B000FA5L18|Motivating Employ...|\n",
            "|B000FA5LMM|The Post-Traumati...|\n",
            "|B000FA5LPE|The Disney Way, R...|\n",
            "|B000FA5LQ8|Leading Self-Dire...|\n",
            "|B000FA5LT0|The Unoffcial Bus...|\n",
            "|B000FA5LTA|Schaum's Easy Out...|\n",
            "+----------+--------------------+\n",
            "only showing top 20 rows\n",
            "\n"
          ]
        }
      ],
      "source": [
        "# Create the \"products_df\" DataFrame that drops the duplicates in the \"product_id\" and \"product_title columns. \n",
        "products_df = user_data_df.select(['product_id', 'product_title']).dropDuplicates(['product_id'])\n",
        "products_df.show()\n"
      ]
    },
    {
      "cell_type": "markdown",
      "metadata": {
        "id": "LJHuZ9zut0e5"
      },
      "source": [
        "## Create the \"customers\" Table"
      ]
    },
    {
      "cell_type": "code",
      "execution_count": 10,
      "metadata": {
        "colab": {
          "base_uri": "https://localhost:8080/"
        },
        "id": "_pF2Vf3c2n2O",
        "outputId": "6cd671be-2f38-4b9a-beb4-afeae1e684ce"
      },
      "outputs": [
        {
          "name": "stdout",
          "output_type": "stream",
          "text": [
            "+-----------+------------------+\n",
            "|customer_id|count(customer_id)|\n",
            "+-----------+------------------+\n",
            "|   27134317|               306|\n",
            "|   36063094|                15|\n",
            "|   49422311|                 1|\n",
            "|   18978114|                 1|\n",
            "|   13455482|                 2|\n",
            "|   32153206|                 1|\n",
            "|   10274872|                 4|\n",
            "|   20977654|                 1|\n",
            "|   48042607|                 1|\n",
            "|   11376183|                 7|\n",
            "|   31762963|                 1|\n",
            "|   11481508|                 4|\n",
            "|   12362676|                 2|\n",
            "|   31176171|                10|\n",
            "|   44699860|                23|\n",
            "|   52734389|                 8|\n",
            "|   24303040|                 3|\n",
            "|   26322451|                77|\n",
            "|   14521576|                30|\n",
            "|   44269342|                10|\n",
            "+-----------+------------------+\n",
            "only showing top 20 rows\n",
            "\n"
          ]
        }
      ],
      "source": [
        "# Create the \"customers_df\" DataFrame that groups the data on the \"customer_id\" by the number of times a customer reviewed a product. \n",
        "customers_df = user_data_df.groupby('customer_id').agg({'customer_id': 'count'})\n",
        "customers_df.show()"
      ]
    },
    {
      "cell_type": "markdown",
      "metadata": {
        "id": "8SbTasxbuXGK"
      },
      "source": [
        "## Create the \"vine_table\"."
      ]
    },
    {
      "cell_type": "code",
      "execution_count": 11,
      "metadata": {
        "colab": {
          "base_uri": "https://localhost:8080/"
        },
        "id": "WHQKbmCE2p3Q",
        "outputId": "ec919e24-46a3-4ba5-d9a9-7f96d96ea911"
      },
      "outputs": [
        {
          "name": "stdout",
          "output_type": "stream",
          "text": [
            "+--------------+-----------+-------------+-----------+----+\n",
            "|     review_id|star_rating|helpful_votes|total_votes|vine|\n",
            "+--------------+-----------+-------------+-----------+----+\n",
            "| RGYFDX8QXKEIR|          4|            0|          0|   N|\n",
            "|R13CBGTMNV9R8Z|          4|            1|          2|   N|\n",
            "| R7DRFHC0F71O0|          5|            0|          0|   N|\n",
            "|R27LUKEXU3KBXQ|          5|            1|          1|   N|\n",
            "|R1VXTPUYMNU687|          5|            1|          2|   N|\n",
            "|R30DKW1GJWLPZC|          3|            1|          2|   N|\n",
            "|R18DPFG2FALJI9|          5|            0|          0|   N|\n",
            "|R24D677N5WBW5Q|          5|            0|          0|   N|\n",
            "|R2FCJ9BQLSIOR3|          5|            0|          0|   N|\n",
            "|R1R6K4MAKDWTXI|          4|            0|          0|   N|\n",
            "|R3R5DILCWM8J7B|          5|            0|          0|   N|\n",
            "| RR5K72IZOCOFE|          4|            0|          0|   N|\n",
            "|R3K9PJU5GLDY3O|          5|            1|          2|   N|\n",
            "|R1KTZMCDOJXAEK|          5|            0|          0|   N|\n",
            "|R3SBEH4Y3W9W11|          5|            0|          0|   N|\n",
            "|R3GB8WOHSWW2EG|          3|            0|          0|   N|\n",
            "| RDM68WMOEDNRJ|          5|            0|          0|   N|\n",
            "|R3TW70YF2WZK9O|          5|            0|          0|   N|\n",
            "|R39ESX43X1SA5T|          1|           36|         47|   N|\n",
            "|R3MCA5W3BZ65OU|          5|            0|          0|   N|\n",
            "+--------------+-----------+-------------+-----------+----+\n",
            "only showing top 20 rows\n",
            "\n"
          ]
        }
      ],
      "source": [
        "# Create the \"vine_df\" DataFrame that has the \"review_id\", \"star_rating\", \"helpful_votes\", \"total_votes\", and \"vine\" columns.  \n",
        "\n",
        "vine_df = user_data_df.select([\"review_id\", \"star_rating\", \"helpful_votes\", \"total_votes\", \"vine\"])\n",
        "vine_df.show()"
      ]
    },
    {
      "cell_type": "markdown",
      "metadata": {
        "id": "I8aTsEjZ2s6L"
      },
      "source": [
        "# Load"
      ]
    },
    {
      "cell_type": "code",
      "execution_count": 14,
      "metadata": {
        "id": "W4dzUKfI2vXM"
      },
      "outputs": [],
      "source": [
        "mode = \"append\"\n",
        "jdbc_url=\"jdbc:postgresql://mypostgresdb.cp5sm1crlurk.us-west-1.rds.amazonaws.com:5432/my_aws_db\"\n",
        "config = {\"user\":\"postgres\", \"password\": \"postgres\", \"driver\":\"org.postgresql.Driver\"}"
      ]
    },
    {
      "cell_type": "code",
      "execution_count": null,
      "metadata": {
        "id": "iOxKqMsD2yVs"
      },
      "outputs": [],
      "source": [
        "# Write review_id_df to table in RDS\n",
        "review_id_df.write.jdbc(url=jdbc_url, table='reviewid_table', mode=mode, properties=config)\n"
      ]
    },
    {
      "cell_type": "code",
      "execution_count": null,
      "metadata": {
        "id": "pPXyGVE-2yPJ"
      },
      "outputs": [],
      "source": [
        "# Write products_df to table in RDS\n",
        "products_df.write.jdbc(url=jdbc_url, table='products_table', mode=mode, properties=config)\n"
      ]
    },
    {
      "cell_type": "code",
      "execution_count": null,
      "metadata": {
        "id": "aHbca4zN2yIa"
      },
      "outputs": [],
      "source": [
        "# Write customers_df to table in RDS\n",
        "customers_df.write.jdbc(url=jdbc_url, table='customers_table', mode=mode, properties=config)\n"
      ]
    },
    {
      "cell_type": "code",
      "execution_count": null,
      "metadata": {
        "id": "2HfOFneW2x_F"
      },
      "outputs": [],
      "source": [
        "# Write vine_df to table in RDS\n",
        "vine_df.write.jdbc(url=jdbc_url, table='vine_table', mode=mode, properties=config)"
      ]
    }
  ],
  "metadata": {
    "colab": {
      "provenance": []
    },
    "kernelspec": {
      "display_name": "Python 3",
      "language": "python",
      "name": "python3"
    },
    "language_info": {
      "codemirror_mode": {
        "name": "ipython",
        "version": 3
      },
      "file_extension": ".py",
      "mimetype": "text/x-python",
      "name": "python",
      "nbconvert_exporter": "python",
      "pygments_lexer": "ipython3",
      "version": "3.8.8"
    }
  },
  "nbformat": 4,
  "nbformat_minor": 0
}
